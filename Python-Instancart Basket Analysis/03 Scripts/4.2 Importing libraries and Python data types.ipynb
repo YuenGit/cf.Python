{
 "cells": [
  {
   "cell_type": "markdown",
   "id": "18f79388",
   "metadata": {},
   "source": [
    "# 01 . Importing libraries"
   ]
  },
  {
   "cell_type": "code",
   "execution_count": null,
   "id": "efb586ce",
   "metadata": {},
   "outputs": [],
   "source": [
    "import pandas as pd\n",
    "import numpy as np\n",
    "import os"
   ]
  },
  {
   "cell_type": "markdown",
   "id": "00563ee6",
   "metadata": {},
   "source": [
    "# Working with Python data types"
   ]
  },
  {
   "cell_type": "code",
   "execution_count": 1,
   "id": "aa4adc94",
   "metadata": {},
   "outputs": [],
   "source": [
    "x=10"
   ]
  },
  {
   "cell_type": "code",
   "execution_count": 2,
   "id": "49283e3a",
   "metadata": {},
   "outputs": [
    {
     "data": {
      "text/plain": [
       "100"
      ]
     },
     "execution_count": 2,
     "metadata": {},
     "output_type": "execute_result"
    }
   ],
   "source": [
    "x+90"
   ]
  },
  {
   "cell_type": "code",
   "execution_count": 3,
   "id": "22aab0c0",
   "metadata": {},
   "outputs": [
    {
     "data": {
      "text/plain": [
       "100"
      ]
     },
     "execution_count": 3,
     "metadata": {},
     "output_type": "execute_result"
    }
   ],
   "source": [
    "110-x"
   ]
  },
  {
   "cell_type": "code",
   "execution_count": 4,
   "id": "2309b202",
   "metadata": {},
   "outputs": [
    {
     "data": {
      "text/plain": [
       "100"
      ]
     },
     "execution_count": 4,
     "metadata": {},
     "output_type": "execute_result"
    }
   ],
   "source": [
    "20+70+x"
   ]
  },
  {
   "cell_type": "code",
   "execution_count": 6,
   "id": "68663a29",
   "metadata": {},
   "outputs": [],
   "source": [
    "a=2.5"
   ]
  },
  {
   "cell_type": "code",
   "execution_count": 7,
   "id": "d8df2ee3",
   "metadata": {},
   "outputs": [],
   "source": [
    "b=3"
   ]
  },
  {
   "cell_type": "code",
   "execution_count": 8,
   "id": "46d73b52",
   "metadata": {},
   "outputs": [
    {
     "data": {
      "text/plain": [
       "1.2"
      ]
     },
     "execution_count": 8,
     "metadata": {},
     "output_type": "execute_result"
    }
   ],
   "source": [
    "b/a"
   ]
  },
  {
   "cell_type": "code",
   "execution_count": 9,
   "id": "f7b0db1c",
   "metadata": {},
   "outputs": [],
   "source": [
    "i=\"ice\""
   ]
  },
  {
   "cell_type": "code",
   "execution_count": 10,
   "id": "151b3759",
   "metadata": {},
   "outputs": [],
   "source": [
    "c=\"cream\""
   ]
  },
  {
   "cell_type": "code",
   "execution_count": 11,
   "id": "5ac12b36",
   "metadata": {},
   "outputs": [
    {
     "data": {
      "text/plain": [
       "'icecream'"
      ]
     },
     "execution_count": 11,
     "metadata": {},
     "output_type": "execute_result"
    }
   ],
   "source": [
    "i+c"
   ]
  },
  {
   "cell_type": "code",
   "execution_count": 12,
   "id": "ce50ce15",
   "metadata": {},
   "outputs": [],
   "source": [
    "s1= \"I like to \""
   ]
  },
  {
   "cell_type": "code",
   "execution_count": 13,
   "id": "5786388f",
   "metadata": {},
   "outputs": [],
   "source": [
    "e= \"eat\""
   ]
  },
  {
   "cell_type": "code",
   "execution_count": 14,
   "id": "32c57437",
   "metadata": {},
   "outputs": [],
   "source": [
    "a= \"and\""
   ]
  },
  {
   "cell_type": "code",
   "execution_count": 15,
   "id": "7cb71511",
   "metadata": {},
   "outputs": [],
   "source": [
    "g= \"go to the beach\""
   ]
  },
  {
   "cell_type": "code",
   "execution_count": 16,
   "id": "e91c75b9",
   "metadata": {},
   "outputs": [
    {
     "data": {
      "text/plain": [
       "'I like to eaticecreamandgo to the beach'"
      ]
     },
     "execution_count": 16,
     "metadata": {},
     "output_type": "execute_result"
    }
   ],
   "source": [
    "s1+e+i+c+a+g"
   ]
  },
  {
   "cell_type": "code",
   "execution_count": 17,
   "id": "419ac48a",
   "metadata": {},
   "outputs": [],
   "source": [
    "e= \"eat \""
   ]
  },
  {
   "cell_type": "code",
   "execution_count": 18,
   "id": "ed9ffef2",
   "metadata": {},
   "outputs": [],
   "source": [
    "c= \"cream \""
   ]
  },
  {
   "cell_type": "code",
   "execution_count": 19,
   "id": "2ddb4ffe",
   "metadata": {},
   "outputs": [],
   "source": [
    "a= \"and \""
   ]
  },
  {
   "cell_type": "code",
   "execution_count": 20,
   "id": "8a374f69",
   "metadata": {},
   "outputs": [
    {
     "data": {
      "text/plain": [
       "'I like to eat icecream and go to the beach'"
      ]
     },
     "execution_count": 20,
     "metadata": {},
     "output_type": "execute_result"
    }
   ],
   "source": [
    "s1+e+i+c+a+g"
   ]
  },
  {
   "cell_type": "code",
   "execution_count": null,
   "id": "226ca79f",
   "metadata": {},
   "outputs": [],
   "source": []
  }
 ],
 "metadata": {
  "kernelspec": {
   "display_name": "Python 3 (ipykernel)",
   "language": "python",
   "name": "python3"
  },
  "language_info": {
   "codemirror_mode": {
    "name": "ipython",
    "version": 3
   },
   "file_extension": ".py",
   "mimetype": "text/x-python",
   "name": "python",
   "nbconvert_exporter": "python",
   "pygments_lexer": "ipython3",
   "version": "3.9.12"
  }
 },
 "nbformat": 4,
 "nbformat_minor": 5
}
